{
  "nbformat": 4,
  "nbformat_minor": 0,
  "metadata": {
    "colab": {
      "provenance": [],
      "collapsed_sections": [
        "5BVe5t2zY8ft"
      ],
      "mount_file_id": "1nXFCv6HEJTrx-9N1cM6lZIKOb3iCHNzv",
      "authorship_tag": "ABX9TyPOSVpWyuuQAS0h/3GhH4tp",
      "include_colab_link": true
    },
    "kernelspec": {
      "name": "python3",
      "display_name": "Python 3"
    },
    "language_info": {
      "name": "python"
    },
    "gpuClass": "standard"
  },
  "cells": [
    {
      "cell_type": "markdown",
      "metadata": {
        "id": "view-in-github",
        "colab_type": "text"
      },
      "source": [
        "<a href=\"https://colab.research.google.com/github/michalgorul/classification-of-musical-genres/blob/main/FMA_MG.ipynb\" target=\"_parent\"><img src=\"https://colab.research.google.com/assets/colab-badge.svg\" alt=\"Open In Colab\"/></a>"
      ]
    },
    {
      "cell_type": "markdown",
      "source": [
        "# Imports"
      ],
      "metadata": {
        "id": "6duJ_mhnhpfb"
      }
    },
    {
      "cell_type": "code",
      "source": [
        "# !pip install tensorflow==2.10.0 pandas==1.5.0 numpy==1.23.3 seaborn==0.12.0 scikit-learn==1.1.2 librosa==0.9.2 imageio==2.22.3\n",
        "!pip install pydub==0.25.1"
      ],
      "metadata": {
        "id": "iO6IR3NBrSPs",
        "colab": {
          "base_uri": "https://localhost:8080/"
        },
        "outputId": "2f7077c3-1eb1-4634-f36a-4400234bf509"
      },
      "execution_count": null,
      "outputs": [
        {
          "output_type": "stream",
          "name": "stdout",
          "text": [
            "Looking in indexes: https://pypi.org/simple, https://us-python.pkg.dev/colab-wheels/public/simple/\n",
            "Collecting pydub==0.25.1\n",
            "  Downloading pydub-0.25.1-py2.py3-none-any.whl (32 kB)\n",
            "Installing collected packages: pydub\n",
            "Successfully installed pydub-0.25.1\n"
          ]
        }
      ]
    },
    {
      "cell_type": "code",
      "source": [
        "import glob\n",
        "import os\n",
        "import ast\n",
        "import random\n",
        "import shutil\n",
        "from typing import Dict, List, Any\n",
        "\n",
        "import librosa\n",
        "import numpy as np\n",
        "import pandas as pd\n",
        "from keras.callbacks import History\n",
        "from matplotlib import pyplot as plt\n",
        "from matplotlib.pyplot import figure\n",
        "from pandas import DataFrame\n",
        "from PIL import ImageFile\n",
        "from keras import models, layers, activations, optimizers, losses, metrics, Sequential, regularizers\n",
        "from keras.layers import Flatten"
      ],
      "metadata": {
        "id": "NRMM58q8gxT7"
      },
      "execution_count": 1,
      "outputs": []
    },
    {
      "cell_type": "markdown",
      "source": [
        "# Global variables"
      ],
      "metadata": {
        "id": "5GEfh3Obhwkb"
      }
    },
    {
      "cell_type": "code",
      "execution_count": 2,
      "metadata": {
        "id": "k9ACubtEfNcd"
      },
      "outputs": [],
      "source": [
        "metadata_path = \"/content/drive/MyDrive/FMA/dataset/metadata\"\n",
        "\n",
        "genres_path =  \"/content/drive/MyDrive/FMA/dataset/genres\"\n",
        "small_dataset = \"/content/drive/MyDrive/FMA/dataset/fma_small\"\n",
        "images_path = \"/content/drive/MyDrive/FMA/dataset/images\"\n",
        "\n",
        "fma_train_dir = \"/content/drive/MyDrive/FMA/dataset/train\"\n",
        "fma_val_dir = \"/content/drive/MyDrive/FMA/dataset/validation\"\n",
        "fma_test_dir = \"/content/drive/MyDrive/FMA/dataset/test\"\n",
        "\n",
        "directories: Dict[str, str] = {\n",
        "    \"train_dir\": fma_train_dir,\n",
        "    \"val_dir\": fma_val_dir,\n",
        "    \"test_dir\": fma_test_dir,\n",
        "}\n",
        "\n",
        "image_target_size = (288, 432)"
      ]
    },
    {
      "cell_type": "markdown",
      "source": [
        "# Dataset"
      ],
      "metadata": {
        "id": "QUXKZUS_iB7F"
      }
    },
    {
      "cell_type": "code",
      "source": [
        "from google.colab import drive\n",
        "drive.mount('/content/drive')"
      ],
      "metadata": {
        "id": "oyq5moN-iH8b",
        "colab": {
          "base_uri": "https://localhost:8080/"
        },
        "outputId": "ac928b9e-5423-4e28-d7c5-addbc4058378"
      },
      "execution_count": 6,
      "outputs": [
        {
          "output_type": "stream",
          "name": "stdout",
          "text": [
            "Mounted at /content/drive\n"
          ]
        }
      ]
    },
    {
      "cell_type": "markdown",
      "source": [
        "## Utils"
      ],
      "metadata": {
        "id": "Pg9PI7CH0-Y0"
      }
    },
    {
      "cell_type": "code",
      "source": [
        "from typing import Optional\n",
        "\n",
        "def load_util(filepath: str) -> Optional[DataFrame]:\n",
        "  filename = os.path.basename(filepath)\n",
        "\n",
        "  if 'features' in filename:\n",
        "    return pd.read_csv(filepath, index_col=0, header=[0, 1, 2])\n",
        "\n",
        "  if 'echonest' in filename:\n",
        "    return pd.read_csv(filepath, index_col=0, header=[0, 1, 2])\n",
        "\n",
        "  if 'genres' in filename:\n",
        "    return pd.read_csv(filepath, index_col=0)\n",
        "\n",
        "  if 'tracks' in filename:\n",
        "    tracks = pd.read_csv(filepath, index_col=0, header=[0, 1])\n",
        "\n",
        "    COLUMNS = [('track', 'tags'), ('album', 'tags'), ('artist', 'tags'),\n",
        "              ('track', 'genres'), ('track', 'genres_all')]\n",
        "    for column in COLUMNS:\n",
        "      tracks[column] = tracks[column].map(ast.literal_eval)\n",
        "\n",
        "    COLUMNS = [('track', 'date_created'), ('track', 'date_recorded'),\n",
        "              ('album', 'date_created'), ('album', 'date_released'),\n",
        "              ('artist', 'date_created'), ('artist', 'active_year_begin'),\n",
        "              ('artist', 'active_year_end')]\n",
        "    for column in COLUMNS:\n",
        "      tracks[column] = pd.to_datetime(tracks[column])\n",
        "\n",
        "    SUBSETS = ('small', 'medium', 'large')\n",
        "    try:\n",
        "      tracks['set', 'subset'] = tracks['set', 'subset'].astype(\n",
        "          'category', categories=SUBSETS, ordered=True)\n",
        "    except (ValueError, TypeError):\n",
        "      # the categories and ordered arguments were removed in pandas 0.25\n",
        "      tracks['set', 'subset'] = tracks['set', 'subset'].astype(\n",
        "          pd.CategoricalDtype(categories=SUBSETS, ordered=True))\n",
        "\n",
        "    COLUMNS = [('track', 'genre_top'), ('track', 'license'),\n",
        "              ('album', 'type'), ('album', 'information'),\n",
        "              ('artist', 'bio')]\n",
        "    for column in COLUMNS:\n",
        "      tracks[column] = tracks[column].astype('category')\n",
        "\n",
        "    return tracks\n",
        "\n",
        "def load() -> DataFrame:\n",
        "  tracks: DataFrame = load_util(f\"{metadata_path}/tracks.csv\")\n",
        "  return tracks\n",
        "\n",
        "\n",
        "def subset(tracks: DataFrame, subset_name: str) -> DataFrame:\n",
        "  assert subset_name in [\"small\", \"medium\"]\n",
        "\n",
        "  subset = tracks.index[tracks[\"set\", \"subset\"] <= \"small\"]\n",
        "  assert subset.isin(tracks.index).all()\n",
        "\n",
        "  return tracks.loc[subset]\n",
        "\n",
        "\n",
        "def list_specific_genre_tracks(tracks: DataFrame, genre: str) -> None:\n",
        "  tracks_with_genre_top = tracks.index[tracks[\"track\", \"genre_top\"] == genre]\n",
        "  print(genre.upper())\n",
        "  print(tracks_with_genre_top.to_list())\n",
        "\n",
        "\n",
        "def get_track_ids_for_genre(tracks: DataFrame, genres: List[str]) -> Dict[str, List[Any]]:\n",
        "  return {\n",
        "      genre: tracks.index[tracks[\"track\", \"genre_top\"] == genre].to_list() for genre in genres\n",
        "  }\n",
        "\n",
        "\n",
        "def genres_top_track_ids(tracks: DataFrame) -> Dict[str, List[Any]]:\n",
        "  subset_small = subset(tracks, \"small\")\n",
        "  genres_top = list(tracks[\"track\", \"genre_top\"].unique())\n",
        "  return get_track_ids_for_genre(subset_small, genres_top)\n",
        "\n",
        "\n",
        "def get_genres_top(tracks: DataFrame) -> List[str]:\n",
        "  genres_top_fixed: List[str] = []\n",
        "  try:\n",
        "    genres_top = list(tracks[\"track\", \"genre_top\"].unique())\n",
        "    for genre in genres_top:\n",
        "      if \" \" not in str(genre):\n",
        "        genres_top_fixed.append(genre)\n",
        "      else:\n",
        "        genres_top_fixed.append(genre.split(\" \")[0])\n",
        "    print(\"Top genres got\")\n",
        "  except Exception as e:\n",
        "    print(f\"Failed to get top genres, error={e}\")\n",
        "  return genres_top_fixed\n",
        "\n",
        "def copy_files(file_paths: List[str], dest_dir: str) -> int:\n",
        "  count = 0\n",
        "  try:\n",
        "    for file in file_paths:\n",
        "      shutil.copy(\n",
        "        file,\n",
        "        os.path.join(\n",
        "          os.path.join(dest_dir),\n",
        "          os.path.split(file)[1],\n",
        "        ),\n",
        "      )\n",
        "      count += 1\n",
        "  except KeyError as e:\n",
        "      print(f\"Failed to copy files to destination directory, error={e}\")\n",
        "  return count\n",
        "\n",
        "\n",
        "def create_directories(directories: List[str]) -> None:\n",
        "  # Create folders\n",
        "  for path in directories:\n",
        "    if os.path.exists(path):\n",
        "      shutil.rmtree(path)\n",
        "      os.mkdir(path)\n",
        "    else:\n",
        "      os.mkdir(path)\n",
        "\n",
        "\n",
        "\n",
        "def create_directory(path: str) -> None:\n",
        "  # Create folder\n",
        "  if os.path.exists(path):\n",
        "    shutil.rmtree(path)\n",
        "    os.mkdir(path)\n",
        "  else:\n",
        "    os.mkdir(path)\n",
        "\n",
        "\n",
        "def remove_directories(directories: Dict[str, str]) -> None:\n",
        "  # Remove folders\n",
        "  for folder_name, path in directories.items():\n",
        "    if os.path.exists(path):\n",
        "      shutil.rmtree(path)\n",
        "\n",
        "\n",
        "def delete_dir_if_empty(dir_names: List[str]) -> None:\n",
        "  dirs_to_remove = []\n",
        "  count = 0\n",
        "  for dir_name in dir_names:\n",
        "    songs = glob.glob(\n",
        "      os.path.join(genres_path, f\"{dir_name}\", \"*.mp3\"), recursive=True\n",
        "    )\n",
        "    if len(songs) == 0:\n",
        "      dirs_to_remove.append(f\"{genres_path}/{dir_name}\")\n",
        "\n",
        "  print(\"Found empty directories:\", len(dirs_to_remove))\n",
        "  print(\"Removing found empty directories...\")\n",
        "  for path in dirs_to_remove:\n",
        "    try:\n",
        "      if os.path.exists(path):\n",
        "        shutil.rmtree(path)\n",
        "        count += 1\n",
        "    except Exception as e:\n",
        "      print(f\"Failed to remove dir, dir={path}, error={e}\")\n",
        "  print(\"Removed empty directories:\", count)"
      ],
      "metadata": {
        "id": "5tdpWaIK6Sfn"
      },
      "execution_count": 10,
      "outputs": []
    },
    {
      "cell_type": "markdown",
      "source": [
        "## Initialization"
      ],
      "metadata": {
        "id": "Q-Ai3gR935gL"
      }
    },
    {
      "cell_type": "code",
      "source": [
        "def fill_directories_with_songs() -> None:\n",
        "  tracks = load()\n",
        "  ids = genres_top_track_ids(tracks)\n",
        "  all_dirs = os.listdir(small_dataset)\n",
        "\n",
        "  print(\"Getting Top genres...\")\n",
        "  genres_top = get_genres_top(tracks)\n",
        "  print(genres_top)\n",
        "\n",
        "  print(\"Creating directories...\")\n",
        "  try:\n",
        "    genres_dir_paths = [f\"{genres_path}/{genre}\" for genre in genres_top]\n",
        "    create_directories(genres_dir_paths)\n",
        "    print(\"Directories created\")\n",
        "  except Exception as e:\n",
        "    print(f\"Failed to create directories, error={e}\")\n",
        "    raise e\n",
        "\n",
        "  print(\"Getting files to copy...\")\n",
        "  files_to_copy: Dict[str, List[str]] = {}\n",
        "  try:\n",
        "    files_to_copy = {f\"{genres_path}/{genre}\": [] for genre in genres_top}\n",
        "    for dir_name in all_dirs:\n",
        "      for song_file in glob.glob(\n",
        "        os.path.join(small_dataset, f\"{dir_name}\", \"*.mp3\"), recursive=True\n",
        "      ):\n",
        "        song_index = int(song_file.split(\"/\")[-1].split(\".\")[0])\n",
        "        for genre, ids_list in ids.items():\n",
        "          if \" \" in str(genre):\n",
        "            genre = genre.split(\" \")[0]\n",
        "          if song_index in ids_list:\n",
        "            files_to_copy[f\"{genres_path}/{genre}\"].append(song_file)\n",
        "    print(\"Files to copy got\")\n",
        "  except Exception as e:\n",
        "    print(f\"Failed to get files to copy, error={e}\")\n",
        "    raise e\n",
        "\n",
        "  print(\"Copying files to desired directories...\")\n",
        "  try:\n",
        "    files_copied = 0\n",
        "    for genre_dir, songs in files_to_copy.items():\n",
        "      print(\"\\tCurrent genre:\", genre_dir.split(\"/\")[-1])\n",
        "      files_copied += copy_files(file_paths=songs, dest_dir=genre_dir)\n",
        "    if files_copied == 0:\n",
        "      raise ValueError(\"Zero files were copied\")\n",
        "    print(\"Files copied\")\n",
        "  except Exception as e:\n",
        "    print(f\"Failed to get files to copy, error={e}\")\n",
        "    raise e\n",
        "\n",
        "  delete_dir_if_empty(dir_names=os.listdir(genres_path))\n",
        "\n",
        "def make_spectograms(last_song: int = 0) -> None:\n",
        "  # TODO remove existing images dirs\n",
        "  import warnings\n",
        "  warnings.filterwarnings('ignore')\n",
        "  \n",
        "  j = 0\n",
        "  songs_path = genres_path\n",
        "  for g in os.listdir(songs_path):\n",
        "    for filename in os.listdir(os.path.join(songs_path, f\"{g}\")):\n",
        "      j = j + 1\n",
        "      if j > last_song:\n",
        "        print(f\"Current file in {g}: {j}\")\n",
        "\n",
        "        song = os.path.join(f\"{songs_path}/{g}\", f\"{filename}\")\n",
        "\n",
        "        y, sr = librosa.load(song)\n",
        "        # print(sr)\n",
        "        mels = librosa.feature.melspectrogram(y=y, sr=sr)\n",
        "        figure(figsize=(4, 2))\n",
        "        plt.imshow(librosa.power_to_db(mels, ref=np.max), aspect=\"auto\")\n",
        "        plt.axis(\"off\")\n",
        "\n",
        "        genre_dir_path = f\"{images_path}/{g}\"\n",
        "        if not os.path.exists(genre_dir_path):\n",
        "          os.mkdir(genre_dir_path)\n",
        "\n",
        "        plt.savefig(f\"{genre_dir_path}/{g + str(j)}.png\")\n",
        "        plt.close()\n",
        "\n",
        "def data_init() -> None:\n",
        "  create_directories(list(directories.values()))\n",
        "\n",
        "  genres = list(os.listdir(images_path))\n",
        "  for genre in genres:\n",
        "    print(f\"Current genre: {genre}\")\n",
        "\n",
        "    # Finding all images & split in train, test, and validation\n",
        "    src_file_paths = []\n",
        "\n",
        "    for file in glob.glob(os.path.join(images_path, f\"{genre}\", \"*.png\"), recursive=True):\n",
        "      src_file_paths.append(file)\n",
        "\n",
        "    # Randomizing directories content\n",
        "    random.shuffle(src_file_paths)\n",
        "    files_len = len(src_file_paths)\n",
        "\n",
        "    test_files = src_file_paths[0:int(files_len * 0.05)]\n",
        "    val_files = src_file_paths[int(files_len * 0.05):int(files_len * 0.15)]\n",
        "    train_files = src_file_paths[int(files_len * 0.15):]\n",
        "\n",
        "    #  make destination folders for train and test images\n",
        "    for folder_name, path in directories.items():\n",
        "      if not os.path.exists(f\"{path}/{genre}\"):\n",
        "        os.mkdir(f\"{path}/{genre}\")\n",
        "\n",
        "    # Coping training and testing images over\n",
        "    copy_files(\n",
        "        file_paths=train_files, dest_dir=f\"{directories['train_dir']}/{genre}/\"\n",
        "    )\n",
        "    copy_files(\n",
        "        file_paths=test_files, dest_dir=f\"{directories['test_dir']}/{genre}/\"\n",
        "    )\n",
        "    copy_files(file_paths=val_files, dest_dir=f\"{directories['val_dir']}/{genre}/\")\n",
        "  return"
      ],
      "metadata": {
        "id": "IIXaOI4e38vt"
      },
      "execution_count": 24,
      "outputs": []
    },
    {
      "cell_type": "code",
      "source": [
        "fill_directories_with_songs()"
      ],
      "metadata": {
        "id": "BKjRONAHBF3o"
      },
      "execution_count": null,
      "outputs": []
    },
    {
      "cell_type": "code",
      "source": [
        "make_spectograms()"
      ],
      "metadata": {
        "colab": {
          "base_uri": "https://localhost:8080/"
        },
        "id": "6VKUpq2Zokxy",
        "outputId": "d95d773e-bbda-4da0-fd20-068d0753afcb"
      },
      "execution_count": null,
      "outputs": [
        {
          "output_type": "stream",
          "name": "stdout",
          "text": [
            "Current file in Hip-Hop: 1\n",
            "Current file in Hip-Hop: 2\n",
            "Current file in Hip-Hop: 3\n",
            "Current file in Hip-Hop: 4\n",
            "Current file in Hip-Hop: 5\n",
            "Current file in Hip-Hop: 6\n",
            "Current file in Hip-Hop: 7\n",
            "Current file in Hip-Hop: 8\n",
            "Current file in Hip-Hop: 9\n",
            "Current file in Hip-Hop: 10\n",
            "Current file in Hip-Hop: 11\n",
            "Current file in Hip-Hop: 12\n",
            "Current file in Hip-Hop: 13\n",
            "Current file in Hip-Hop: 14\n",
            "Current file in Hip-Hop: 15\n",
            "Current file in Hip-Hop: 16\n",
            "Current file in Hip-Hop: 17\n",
            "Current file in Hip-Hop: 18\n",
            "Current file in Hip-Hop: 19\n",
            "Current file in Hip-Hop: 20\n",
            "Current file in Hip-Hop: 21\n",
            "Current file in Hip-Hop: 22\n",
            "Current file in Hip-Hop: 23\n",
            "Current file in Hip-Hop: 24\n",
            "Current file in Hip-Hop: 25\n",
            "Current file in Hip-Hop: 26\n",
            "Current file in Hip-Hop: 27\n",
            "Current file in Hip-Hop: 28\n",
            "Current file in Hip-Hop: 29\n",
            "Current file in Hip-Hop: 30\n",
            "Current file in Hip-Hop: 31\n",
            "Current file in Hip-Hop: 32\n",
            "Current file in Hip-Hop: 33\n",
            "Current file in Hip-Hop: 34\n",
            "Current file in Hip-Hop: 35\n",
            "Current file in Hip-Hop: 36\n",
            "Current file in Hip-Hop: 37\n",
            "Current file in Hip-Hop: 38\n",
            "Current file in Hip-Hop: 39\n",
            "Current file in Hip-Hop: 40\n",
            "Current file in Hip-Hop: 41\n",
            "Current file in Hip-Hop: 42\n",
            "Current file in Hip-Hop: 43\n",
            "Current file in Hip-Hop: 44\n",
            "Current file in Hip-Hop: 45\n",
            "Current file in Hip-Hop: 46\n",
            "Current file in Hip-Hop: 47\n",
            "Current file in Hip-Hop: 48\n",
            "Current file in Hip-Hop: 49\n",
            "Current file in Hip-Hop: 50\n",
            "Current file in Hip-Hop: 51\n",
            "Current file in Hip-Hop: 52\n",
            "Current file in Hip-Hop: 53\n",
            "Current file in Hip-Hop: 54\n",
            "Current file in Hip-Hop: 55\n",
            "Current file in Hip-Hop: 56\n",
            "Current file in Hip-Hop: 57\n",
            "Current file in Hip-Hop: 58\n",
            "Current file in Hip-Hop: 59\n",
            "Current file in Hip-Hop: 60\n",
            "Current file in Hip-Hop: 61\n",
            "Current file in Hip-Hop: 62\n",
            "Current file in Hip-Hop: 63\n",
            "Current file in Hip-Hop: 64\n",
            "Current file in Hip-Hop: 65\n",
            "Current file in Hip-Hop: 66\n",
            "Current file in Hip-Hop: 67\n",
            "Current file in Hip-Hop: 68\n",
            "Current file in Hip-Hop: 69\n",
            "Current file in Hip-Hop: 70\n",
            "Current file in Hip-Hop: 71\n",
            "Current file in Hip-Hop: 72\n",
            "Current file in Hip-Hop: 73\n",
            "Current file in Hip-Hop: 74\n",
            "Current file in Hip-Hop: 75\n",
            "Current file in Hip-Hop: 76\n",
            "Current file in Hip-Hop: 77\n",
            "Current file in Hip-Hop: 78\n",
            "Current file in Hip-Hop: 79\n",
            "Current file in Hip-Hop: 80\n",
            "Current file in Hip-Hop: 81\n",
            "Current file in Hip-Hop: 82\n",
            "Current file in Hip-Hop: 83\n",
            "Current file in Hip-Hop: 84\n",
            "Current file in Hip-Hop: 85\n",
            "Current file in Hip-Hop: 86\n",
            "Current file in Hip-Hop: 87\n",
            "Current file in Hip-Hop: 88\n",
            "Current file in Hip-Hop: 89\n",
            "Current file in Hip-Hop: 90\n",
            "Current file in Hip-Hop: 91\n",
            "Current file in Hip-Hop: 92\n",
            "Current file in Hip-Hop: 93\n",
            "Current file in Hip-Hop: 94\n",
            "Current file in Hip-Hop: 95\n",
            "Current file in Hip-Hop: 96\n",
            "Current file in Hip-Hop: 97\n",
            "Current file in Hip-Hop: 98\n",
            "Current file in Hip-Hop: 99\n",
            "Current file in Hip-Hop: 100\n",
            "Current file in Hip-Hop: 101\n",
            "Current file in Hip-Hop: 102\n",
            "Current file in Hip-Hop: 103\n",
            "Current file in Hip-Hop: 104\n",
            "Current file in Hip-Hop: 105\n",
            "Current file in Hip-Hop: 106\n",
            "Current file in Hip-Hop: 107\n",
            "Current file in Hip-Hop: 108\n",
            "Current file in Hip-Hop: 109\n",
            "Current file in Hip-Hop: 110\n",
            "Current file in Hip-Hop: 111\n",
            "Current file in Hip-Hop: 112\n",
            "Current file in Hip-Hop: 113\n",
            "Current file in Hip-Hop: 114\n",
            "Current file in Hip-Hop: 115\n",
            "Current file in Hip-Hop: 116\n",
            "Current file in Hip-Hop: 117\n",
            "Current file in Hip-Hop: 118\n",
            "Current file in Hip-Hop: 119\n",
            "Current file in Hip-Hop: 120\n",
            "Current file in Hip-Hop: 121\n",
            "Current file in Hip-Hop: 122\n",
            "Current file in Hip-Hop: 123\n",
            "Current file in Hip-Hop: 124\n",
            "Current file in Hip-Hop: 125\n",
            "Current file in Hip-Hop: 126\n",
            "Current file in Hip-Hop: 127\n",
            "Current file in Hip-Hop: 128\n",
            "Current file in Hip-Hop: 129\n",
            "Current file in Hip-Hop: 130\n",
            "Current file in Hip-Hop: 131\n",
            "Current file in Hip-Hop: 132\n",
            "Current file in Hip-Hop: 133\n",
            "Current file in Hip-Hop: 134\n",
            "Current file in Hip-Hop: 135\n",
            "Current file in Hip-Hop: 136\n",
            "Current file in Hip-Hop: 137\n",
            "Current file in Hip-Hop: 138\n",
            "Current file in Hip-Hop: 139\n",
            "Current file in Hip-Hop: 140\n",
            "Current file in Hip-Hop: 141\n",
            "Current file in Hip-Hop: 142\n",
            "Current file in Hip-Hop: 143\n",
            "Current file in Hip-Hop: 144\n",
            "Current file in Hip-Hop: 145\n",
            "Current file in Hip-Hop: 146\n",
            "Current file in Hip-Hop: 147\n",
            "Current file in Hip-Hop: 148\n",
            "Current file in Hip-Hop: 149\n",
            "Current file in Hip-Hop: 150\n",
            "Current file in Hip-Hop: 151\n",
            "Current file in Hip-Hop: 152\n",
            "Current file in Hip-Hop: 153\n",
            "Current file in Hip-Hop: 154\n",
            "Current file in Hip-Hop: 155\n",
            "Current file in Hip-Hop: 156\n",
            "Current file in Hip-Hop: 157\n",
            "Current file in Hip-Hop: 158\n",
            "Current file in Hip-Hop: 159\n",
            "Current file in Hip-Hop: 160\n",
            "Current file in Hip-Hop: 161\n",
            "Current file in Hip-Hop: 162\n",
            "Current file in Hip-Hop: 163\n",
            "Current file in Hip-Hop: 164\n",
            "Current file in Hip-Hop: 165\n",
            "Current file in Hip-Hop: 166\n",
            "Current file in Hip-Hop: 167\n",
            "Current file in Hip-Hop: 168\n",
            "Current file in Hip-Hop: 169\n",
            "Current file in Hip-Hop: 170\n",
            "Current file in Hip-Hop: 171\n",
            "Current file in Hip-Hop: 172\n",
            "Current file in Hip-Hop: 173\n",
            "Current file in Hip-Hop: 174\n",
            "Current file in Hip-Hop: 175\n",
            "Current file in Hip-Hop: 176\n",
            "Current file in Hip-Hop: 177\n",
            "Current file in Hip-Hop: 178\n",
            "Current file in Hip-Hop: 179\n",
            "Current file in Hip-Hop: 180\n",
            "Current file in Hip-Hop: 181\n",
            "Current file in Hip-Hop: 182\n",
            "Current file in Hip-Hop: 183\n",
            "Current file in Hip-Hop: 184\n",
            "Current file in Hip-Hop: 185\n",
            "Current file in Hip-Hop: 186\n",
            "Current file in Hip-Hop: 187\n",
            "Current file in Hip-Hop: 188\n",
            "Current file in Hip-Hop: 189\n",
            "Current file in Hip-Hop: 190\n",
            "Current file in Hip-Hop: 191\n",
            "Current file in Hip-Hop: 192\n",
            "Current file in Hip-Hop: 193\n",
            "Current file in Hip-Hop: 194\n",
            "Current file in Hip-Hop: 195\n",
            "Current file in Hip-Hop: 196\n",
            "Current file in Hip-Hop: 197\n",
            "Current file in Hip-Hop: 198\n",
            "Current file in Hip-Hop: 199\n",
            "Current file in Hip-Hop: 200\n",
            "Current file in Hip-Hop: 201\n",
            "Current file in Hip-Hop: 202\n",
            "Current file in Hip-Hop: 203\n",
            "Current file in Hip-Hop: 204\n",
            "Current file in Hip-Hop: 205\n",
            "Current file in Hip-Hop: 206\n"
          ]
        }
      ]
    },
    {
      "cell_type": "code",
      "source": [
        "data_init()"
      ],
      "metadata": {
        "id": "LhniHSMMpHbh"
      },
      "execution_count": null,
      "outputs": []
    },
    {
      "cell_type": "markdown",
      "source": [
        "## Sanity data test"
      ],
      "metadata": {
        "id": "y2BEj82Z1Uf8"
      }
    },
    {
      "cell_type": "code",
      "source": [
        "def sanity_data_test() -> None:\n",
        "  print(\n",
        "    \"Genres directories in train data:\",\n",
        "    len(os.listdir(directories[\"train_dir\"])),\n",
        "  )\n",
        "  print(\n",
        "    \"Genres directories in test data:\", len(os.listdir(directories[\"test_dir\"]))\n",
        "  )\n",
        "  print(\n",
        "    \"Genres directories in validation data:\",\n",
        "    len(os.listdir(directories[\"val_dir\"])),\n",
        "  )\n",
        "\n",
        "  print(\"\\nTotal number of images in:\")\n",
        "  for genre in genres:\n",
        "    print()\n",
        "    for folder_name, path in directories.items():\n",
        "      print(\n",
        "        f\"\\t{folder_name} of {genre} songs: \"\n",
        "        + str(len(os.listdir(f\"{directories[folder_name]}/{genre}\"))),\n",
        "      )\n",
        "\n",
        "sanity_data_test()"
      ],
      "metadata": {
        "id": "LigMLMuoZLHN"
      },
      "execution_count": null,
      "outputs": []
    },
    {
      "cell_type": "markdown",
      "source": [
        "# Data generators"
      ],
      "metadata": {
        "id": "cNwO2DiHK2z6"
      }
    },
    {
      "cell_type": "code",
      "source": [
        "train_dir_on_colab_instance = \"/content/bin/data/train\"\n",
        "val_dir_on_colab_instance = \"/content/bin/data/val\"\n",
        "test_dir_on_colab_instance = \"/content/bin/data/test\""
      ],
      "metadata": {
        "id": "eDQ1ZYAyWGqW"
      },
      "execution_count": 37,
      "outputs": []
    },
    {
      "cell_type": "code",
      "source": [
        "if os.path.exists(train_dir_on_colab_instance):\n",
        "  shutil.rmtree(train_dir_on_colab_instance)\n",
        "\n",
        "if os.path.exists(val_dir_on_colab_instance):\n",
        "  shutil.rmtree(val_dir_on_colab_instance)\n",
        "\n",
        "if os.path.exists(test_dir_on_colab_instance):\n",
        "  shutil.rmtree(test_dir_on_colab_instance)\n",
        "\n",
        "shutil.copytree(fma_train_dir, train_dir_on_colab_instance)\n",
        "shutil.copytree(fma_val_dir, val_dir_on_colab_instance)\n",
        "shutil.copytree(fma_val_dir, test_dir_on_colab_instance)"
      ],
      "metadata": {
        "colab": {
          "base_uri": "https://localhost:8080/",
          "height": 36
        },
        "id": "sWFzYBke9FBf",
        "outputId": "bf6229b7-6752-4abd-9ba0-61d6a8a85155"
      },
      "execution_count": 38,
      "outputs": [
        {
          "output_type": "execute_result",
          "data": {
            "text/plain": [
              "'/content/bin/data/test'"
            ],
            "application/vnd.google.colaboratory.intrinsic+json": {
              "type": "string"
            }
          },
          "metadata": {},
          "execution_count": 38
        }
      ]
    },
    {
      "cell_type": "code",
      "source": [
        "from keras.preprocessing.image import ImageDataGenerator, DirectoryIterator\n",
        "\n",
        "# BATCH_SIZE = 128\n",
        "BATCH_SIZE = 20\n",
        "\n",
        "\n",
        "\n",
        "def get_train_data_generator() -> DirectoryIterator:\n",
        "  print(\"Creating train data generator\")\n",
        "  train_datagen = ImageDataGenerator(rescale=1.0 / 255)\n",
        "\n",
        "  train_dir = train_dir_on_colab_instance\n",
        "  target_size = image_target_size\n",
        "\n",
        "  train_generator = train_datagen.flow_from_directory(\n",
        "      train_dir, \n",
        "      target_size=target_size, \n",
        "      batch_size=BATCH_SIZE, \n",
        "      class_mode=\"categorical\", \n",
        "      color_mode=\"rgba\"\n",
        "  )\n",
        "  return train_generator\n",
        "\n",
        "\n",
        "def get_validation_data_generator() -> DirectoryIterator:\n",
        "  print(\"Creating validation data generator\")\n",
        "  validation_datagen = ImageDataGenerator(rescale=1.0 / 255)\n",
        "\n",
        "  validation_dir = val_dir_on_colab_instance\n",
        "  target_size = image_target_size\n",
        "\n",
        "  validation_generator = validation_datagen.flow_from_directory(\n",
        "      validation_dir, \n",
        "      target_size=target_size, \n",
        "      batch_size=BATCH_SIZE, \n",
        "      class_mode=\"categorical\",  \n",
        "      color_mode=\"rgba\"\n",
        "  )\n",
        "  return validation_generator\n",
        "\n",
        "\n",
        "def list_output_of_generators() -> None:\n",
        "  for data_batch, labels_batch in get_train_data_generator():\n",
        "    print(\"Train generator:\")\n",
        "    print(\"\\tData batch shape:\", data_batch.shape)\n",
        "    print(\"\\tLabels batch shape:\", labels_batch.shape)\n",
        "    print()\n",
        "    break\n",
        "\n",
        "  for data_batch, labels_batch in get_validation_data_generator():\n",
        "    print(\"Validation generator:\")\n",
        "    print(\"\\tData batch shape:\", data_batch.shape)\n",
        "    print(\"\\tLabels batch shape:\", labels_batch.shape)\n",
        "    break\n",
        "\n",
        "\n",
        "# list_output_of_generators()"
      ],
      "metadata": {
        "id": "eQJ_48tbK7jH"
      },
      "execution_count": 39,
      "outputs": []
    },
    {
      "cell_type": "markdown",
      "source": [
        "# Model (My network)"
      ],
      "metadata": {
        "id": "GVN5WMAx4qna"
      }
    },
    {
      "cell_type": "code",
      "source": [
        "ImageFile.LOAD_TRUNCATED_IMAGES = True\n",
        "\n",
        "\n",
        "def build_model() -> Sequential:\n",
        "  \"\"\"\n",
        "  Function creating keras model\n",
        "  :return: a model\n",
        "  \"\"\"\n",
        "\n",
        "  input_shape = (*image_target_size, 4)\n",
        "  \n",
        "  model = models.Sequential()\n",
        "  \n",
        "  model.add(layers.Conv2D(8, (3, 3), activation=activations.relu, input_shape=input_shape))\n",
        "  model.add(layers.MaxPooling2D((2, 2)))\n",
        "  model.add(layers.Dropout(0.3))\n",
        "\n",
        "  model.add(layers.Conv2D(16, (3, 3), activation=activations.relu))\n",
        "  model.add(layers.MaxPooling2D((2, 2)))\n",
        "  model.add(layers.Dropout(0.3))\n",
        "\n",
        "  model.add(layers.Conv2D(32, (3, 3), activation=activations.relu))\n",
        "  model.add(layers.MaxPooling2D((2, 2)))\n",
        "  model.add(layers.Dropout(0.3))\n",
        "\n",
        "  model.add(layers.Conv2D(64, (3, 3), activation=activations.relu))\n",
        "  model.add(layers.MaxPooling2D((2, 2)))\n",
        "  model.add(layers.Dropout(0.3))\n",
        "\n",
        "  model.add(layers.Conv2D(128, (3, 3), activation=activations.relu))\n",
        "  model.add(layers.MaxPooling2D((2, 2)))\n",
        "  model.add(layers.Dropout(0.3))\n",
        "\n",
        "  # flattening the data to be passed to a dense layer\n",
        "  model.add(Flatten())\n",
        "\n",
        "  model.add(layers.Dense(256, activation=activations.relu))\n",
        "  model.add(layers.Dense(8, activation=activations.softmax))\n",
        "\n",
        "  model.summary()\n",
        "\n",
        "  model.compile(\n",
        "      optimizer=optimizers.RMSprop(learning_rate=0.0005),\n",
        "      loss=losses.categorical_crossentropy,\n",
        "      metrics=[metrics.categorical_accuracy],\n",
        "  )\n",
        "\n",
        "  return model"
      ],
      "metadata": {
        "id": "aBDzG_W9dg3X"
      },
      "execution_count": 40,
      "outputs": []
    },
    {
      "cell_type": "markdown",
      "source": [
        "# Plotting functions"
      ],
      "metadata": {
        "id": "tQoNzS0JWlAc"
      }
    },
    {
      "cell_type": "code",
      "source": [
        "def show_training_and_validation_loss(\n",
        "    epochs: range, loss_values: List[float], val_loss_values: List[float]\n",
        ") -> None:\n",
        "  plt.plot(epochs, loss_values, \"bo\", label=\"Training loss\")\n",
        "  plt.plot(epochs, val_loss_values, \"b\", label=\"Validation loss\")\n",
        "  plt.title(\"Training and validation loss\")\n",
        "  plt.xlabel(\"Epochs\")\n",
        "  plt.ylabel(\"Loss\")\n",
        "  plt.legend()\n",
        "  plt.show()\n",
        "\n",
        "\n",
        "def show_training_and_validation_accuracy(\n",
        "    epochs: range, acc: List[float], val_acc: List[float]\n",
        ") -> None:\n",
        "  plt.plot(epochs, acc, \"bo\", label=\"Training acc\")\n",
        "  plt.plot(epochs, val_acc, \"b\", label=\"Validation acc\")\n",
        "  plt.title(\"Training and validation accuracy\")\n",
        "  plt.xlabel(\"Epochs\")\n",
        "  plt.ylabel(\"Accuracy\")\n",
        "  plt.legend()\n",
        "  plt.show()"
      ],
      "metadata": {
        "id": "UZrdC4DvWnZq"
      },
      "execution_count": 41,
      "outputs": []
    },
    {
      "cell_type": "markdown",
      "source": [
        "# Training the model"
      ],
      "metadata": {
        "id": "b_i2SBE-VYiJ"
      }
    },
    {
      "cell_type": "markdown",
      "source": [
        "### Checking if CUDA is available"
      ],
      "metadata": {
        "id": "5BVe5t2zY8ft"
      }
    },
    {
      "cell_type": "code",
      "source": [
        "!nvcc --version"
      ],
      "metadata": {
        "colab": {
          "base_uri": "https://localhost:8080/"
        },
        "id": "9sfCAucLYvVV",
        "outputId": "271ded0c-a7ed-407a-cd7a-bd6ae89deec5"
      },
      "execution_count": null,
      "outputs": [
        {
          "output_type": "stream",
          "name": "stdout",
          "text": [
            "nvcc: NVIDIA (R) Cuda compiler driver\n",
            "Copyright (c) 2005-2021 NVIDIA Corporation\n",
            "Built on Sun_Feb_14_21:12:58_PST_2021\n",
            "Cuda compilation tools, release 11.2, V11.2.152\n",
            "Build cuda_11.2.r11.2/compiler.29618528_0\n"
          ]
        }
      ]
    },
    {
      "cell_type": "code",
      "source": [
        "import tensorflow as tf\n",
        "tf.test.gpu_device_name()\n",
        "# Standard output is '/device:GPU:0'"
      ],
      "metadata": {
        "colab": {
          "base_uri": "https://localhost:8080/",
          "height": 35
        },
        "id": "c6pcNpzzY5hw",
        "outputId": "e6e48ff6-27b3-4921-bde3-766f3ca68ff8"
      },
      "execution_count": null,
      "outputs": [
        {
          "output_type": "execute_result",
          "data": {
            "text/plain": [
              "'/device:GPU:0'"
            ],
            "application/vnd.google.colaboratory.intrinsic+json": {
              "type": "string"
            }
          },
          "metadata": {},
          "execution_count": 74
        }
      ]
    },
    {
      "cell_type": "markdown",
      "source": [
        "### Training"
      ],
      "metadata": {
        "id": "cXqDfGhbZBP5"
      }
    },
    {
      "cell_type": "code",
      "source": [
        "from keras.callbacks import History\n",
        "\n",
        "train_data = get_train_data_generator()\n",
        "val_data = get_validation_data_generator()\n",
        "\n",
        "EPOCHS = 30\n",
        "\n",
        "model = build_model()\n",
        "\n",
        "history: History = model.fit(\n",
        "        train_data,\n",
        "        steps_per_epoch=train_data.samples / train_data.batch_size,\n",
        "        epochs=EPOCHS,\n",
        "        validation_data=val_data,\n",
        "        validation_steps=val_data.samples / val_data.batch_size,\n",
        "    )\n",
        "\n",
        "model_path = \"/content/drive/MyDrive/GTZAN/models/gztan_provided_spectograms.h5\"\n",
        "try:\n",
        "  model.save(model_path)\n",
        "  print(f\"Model saved at {model_path}\")\n",
        "except Exception as e:\n",
        "  print(f\"Failed to save model, error={e}\")\n",
        "\n",
        "\n",
        "train_loss_values = history.history.get(\"loss\")\n",
        "val_loss_values = history.history.get(\"val_loss\")\n",
        "train_accuracy = history.history.get(\"categorical_accuracy\")\n",
        "val_accuracy = history.history.get(\"val_categorical_accuracy\")\n",
        "num_of_epochs = range(1, len(train_accuracy) + 1)\n",
        "\n",
        "print(f\"categorical_accuracy max: {max(history.history.get('categorical_accuracy'))}\")\n",
        "print(f\"val_categorical_accuracy max: {max(history.history.get('val_categorical_accuracy'))}\")\n",
        "print(f\"loss min: {min(history.history.get('loss'))}\")\n",
        "print(f\"val_loss min: {min(history.history.get('val_loss'))}\")\n",
        "\n",
        "show_training_and_validation_loss(\n",
        "    epochs=num_of_epochs, loss_values=train_loss_values, val_loss_values=val_loss_values\n",
        ")\n",
        "\n",
        "show_training_and_validation_accuracy(\n",
        "    epochs=num_of_epochs, acc=train_accuracy, val_acc=val_accuracy\n",
        ")"
      ],
      "metadata": {
        "id": "33DQjd7OVc7G"
      },
      "execution_count": null,
      "outputs": []
    },
    {
      "cell_type": "markdown",
      "source": [
        "# Results"
      ],
      "metadata": {
        "id": "hrMGgoqKNUiL"
      }
    },
    {
      "cell_type": "code",
      "source": [
        "# make test folder with one class\n",
        "\n",
        "labels = train_data.class_indices\n",
        "genres = dict((v,k) for k,v in labels.items())\n",
        "\n",
        "test_dir = fma_test_dir + \"/images/\" \n",
        "create_directory(test_dir)\n",
        "\n",
        "for genre in genres:\n",
        "  source = fma_test_dir + \"/\" + genre + \"/\"\n",
        "\n",
        "  # code to move the files from sub-folder to main folder.\n",
        "  files = os.listdir(source)\n",
        "  for file in files:\n",
        "    file_name = os.path.join(source, file)\n",
        "    shutil.move(file_name, test_dir)\n",
        "  os.rmdir(source)\n",
        "  print(f\"Files from {genre} moved\")"
      ],
      "metadata": {
        "id": "0dDwco25jKOJ"
      },
      "execution_count": null,
      "outputs": []
    },
    {
      "cell_type": "code",
      "source": [
        "test_dir = fma_test_dir\n",
        "test_datagen = ImageDataGenerator(rescale=1./255)\n",
        "\n",
        "BATCH_SIZE = 20\n",
        "\n",
        "# shuffle=False in order to preserve the order of filenames and predictions.\n",
        "test_generator = test_datagen.flow_from_directory(\n",
        "        test_dir,\n",
        "        target_size=image_target_size,\n",
        "        batch_size=BATCH_SIZE,\n",
        "        class_mode=\"categorical\", \n",
        "        color_mode=\"rgba\",\n",
        "        shuffle=False\n",
        ")"
      ],
      "metadata": {
        "colab": {
          "base_uri": "https://localhost:8080/"
        },
        "id": "pubkoF2MiTlJ",
        "outputId": "b755342a-b3b6-4b63-dfcb-a7ac3d1cce95"
      },
      "execution_count": null,
      "outputs": [
        {
          "output_type": "stream",
          "name": "stdout",
          "text": [
            "Found 49 images belonging to 1 classes.\n"
          ]
        }
      ]
    },
    {
      "cell_type": "code",
      "source": [
        "# Predict from generator (returns probabilities)\n",
        "test_generator.reset()\n",
        "predictions = model.predict(\n",
        "    test_generator, \n",
        "    steps=len(test_generator), \n",
        "    verbose=1\n",
        ")"
      ],
      "metadata": {
        "colab": {
          "base_uri": "https://localhost:8080/"
        },
        "id": "qMHWCSFIpHM5",
        "outputId": "a16757f2-179d-4e45-f4d2-bf79c6ecc880"
      },
      "execution_count": null,
      "outputs": [
        {
          "output_type": "stream",
          "name": "stdout",
          "text": [
            "3/3 [==============================] - 0s 104ms/step\n"
          ]
        }
      ]
    },
    {
      "cell_type": "code",
      "source": [
        "import pandas as pd\n",
        "\n",
        "predicted_class_indices=np.argmax(predictions,axis=1)\n",
        "labels = genres\n",
        "# labels = train_data.class_indices\n",
        "# labels = dict((v,k) for k,v in labels.items())\n",
        "prediction_results = [labels[k] for k in predicted_class_indices]\n",
        "\n",
        "filenames = test_generator.filenames\n",
        "results = pd.DataFrame({\"Filename\": filenames,\n",
        "                      \"Predictions\": prediction_results})\n",
        "print(results)"
      ],
      "metadata": {
        "id": "Nt2L1GiarTwE"
      },
      "execution_count": null,
      "outputs": []
    },
    {
      "cell_type": "code",
      "source": [
        "from sklearn.metrics import classification_report, confusion_matrix, accuracy_score, cohen_kappa_score\n",
        "import re\n",
        "\n",
        "\n",
        "classes = sorted([\n",
        "    genres.index(re.sub(r'\\d', '', c.replace(\".png\", \"\"))) \n",
        "    for c in os.listdir(test_dir + \"/images/\")\n",
        "])\n",
        "print(classes)\n",
        "y_pred = np.argmax(predictions, axis=1)\n",
        "print(y_pred)\n",
        "print('Confusion Matrix')\n",
        "print(confusion_matrix(classes, y_pred))\n",
        "print('Classification Report')\n",
        "target_names = genres\n",
        "print(classification_report(classes, y_pred, target_names=target_names))\n",
        "print(\"Cohen's Kappa: {}\".format(cohen_kappa_score(classes, y_pred)))\n",
        "print(\"Accuracy: \",accuracy_score(classes, y_pred))\n"
      ],
      "metadata": {
        "id": "8x_oELsGNWYx"
      },
      "execution_count": null,
      "outputs": []
    },
    {
      "cell_type": "markdown",
      "source": [
        "#### Results \n"
      ],
      "metadata": {
        "id": "QAtW6NnOiYlz"
      }
    }
  ]
}